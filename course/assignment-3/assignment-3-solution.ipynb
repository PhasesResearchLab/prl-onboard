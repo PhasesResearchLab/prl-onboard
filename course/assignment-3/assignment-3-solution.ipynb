{
 "cells": [
  {
   "cell_type": "markdown",
   "metadata": {
    "collapsed": true
   },
   "source": [
    "# Assignment 3 Solution: Introduction to pymatgen"
   ]
  },
  {
   "cell_type": "markdown",
   "metadata": {},
   "source": [
    "## 1. Install pymatgen (reccomended: install into a virtual environment. See resources)\n",
    "\n",
    "If you need help, please send an email to whomever is helping you with this course. "
   ]
  },
  {
   "cell_type": "markdown",
   "metadata": {
    "collapsed": true
   },
   "source": [
    "## 2. Open up an interactive Python interpreter (or Jupyter notebook) and go through the pymatgen quick start examples. Pay particular attention to the instance of the Structure class (rather than Element or Molecule). Since our group deals primarily with infinite crystalline lattices, we use pymatgen structures almost exclusively.\n",
    "\n"
   ]
  },
  {
   "cell_type": "code",
   "execution_count": 2,
   "metadata": {
    "collapsed": false
   },
   "outputs": [
    {
     "name": "stdout",
     "output_type": "stream",
     "text": [
      "Si:\n",
      "28.0855 amu\n",
      "(-4, 4)\n",
      "14\n",
      "\n",
      "CsCl structure\n",
      "Full Formula (Cs1 Cl1)\n",
      "Reduced Formula: CsCl\n",
      "abc   :   4.200000   4.200000   4.200000\n",
      "angles:  90.000000  90.000000  90.000000\n",
      "Sites (2)\n",
      "  #  SP      a    b    c\n",
      "---  ----  ---  ---  ---\n",
      "  0  Cs    0    0    0\n",
      "  1  Cl    0.5  0.5  0.5\n",
      "\n",
      "\n",
      "Cs1 Cl1\n"
     ]
    }
   ],
   "source": [
    "import pymatgen as pmg\n",
    "si = pmg.Element('Si')\n",
    "print('Si:')\n",
    "print(si.atomic_mass)\n",
    "print(si.common_oxidation_states)\n",
    "print(si.number)\n",
    "\n",
    "lattice = pmg.Lattice.cubic(4.2)\n",
    "cscl = pmg.Structure(lattice, [\"Cs\", \"Cl\"], [[0,0,0],[0.5,0.5,0.5]])\n",
    "print('\\nCsCl structure')\n",
    "print(cscl)\n",
    "print('\\n')\n",
    "print(cscl.composition)\n",
    "cscl.to(filename='POSCAR')\n",
    "# ... \n",
    "# The examples are online at http://pymatgen.org/#quick-start"
   ]
  },
  {
   "cell_type": "markdown",
   "metadata": {},
   "source": [
    "## 3. Create the following Structures from Lattices. Instead of using the convience class methods e.g. Lattice.cubic, create them from basis vectors. Print the volumes and densities of the structures after you create them to check yourself. The API documentation for these classes may be helpful (see resources). Pay attention to the units! You are encourage, but not required to use Structure.to('POSCAR') (or CIF) and then load the file into something like VESTA (free) or CrystalMaker (commercial).\n",
    "\n"
   ]
  },
  {
   "cell_type": "markdown",
   "metadata": {},
   "source": [
    "### i. Po. Simple cubic with lattice parameter of 335 pm"
   ]
  },
  {
   "cell_type": "code",
   "execution_count": 3,
   "metadata": {
    "collapsed": false
   },
   "outputs": [
    {
     "name": "stdout",
     "output_type": "stream",
     "text": [
      "Full Formula (Po1)\n",
      "Reduced Formula: Po\n",
      "abc   :   3.350000   3.350000   3.350000\n",
      "angles:  90.000000  90.000000  90.000000\n",
      "Sites (1)\n",
      "  #  SP      a    b    c\n",
      "---  ----  ---  ---  ---\n",
      "  0  Po      0    0    0\n",
      "37.595375\n",
      "9.27542811849 g\n"
     ]
    }
   ],
   "source": [
    "from pymatgen import Structure, Lattice\n",
    "# convert 335 pm to A:\n",
    "a = 335*10**-2 # lattice parameter, a\n",
    "latt = Lattice([[a, 0, 0], [0, a, 0], [0, 0, a]])\n",
    "Po = Structure(latt, ['Po'], [(0, 0, 0)])\n",
    "print(Po)\n",
    "print(Po.volume)\n",
    "print(Po.density)"
   ]
  },
  {
   "cell_type": "markdown",
   "metadata": {},
   "source": [
    "### ii. Fe. Body centered cubic with lattice parameter of 2.866 Angstrom"
   ]
  },
  {
   "cell_type": "code",
   "execution_count": 4,
   "metadata": {
    "collapsed": false
   },
   "outputs": [
    {
     "name": "stdout",
     "output_type": "stream",
     "text": [
      "Full Formula (Fe2)\n",
      "Reduced Formula: Fe\n",
      "abc   :   2.866000   2.866000   2.866000\n",
      "angles:  90.000000  90.000000  90.000000\n",
      "Sites (2)\n",
      "  #  SP      a    b    c\n",
      "---  ----  ---  ---  ---\n",
      "  0  Fe    0    0    0\n",
      "  1  Fe    0.5  0.5  0.5\n",
      "23.541197896\n",
      "7.87834188375 g\n"
     ]
    }
   ],
   "source": [
    "a = 2.866 # lattice parameter, a\n",
    "latt = Lattice([[a, 0, 0], [0, a, 0], [0, 0, a]])\n",
    "Fe = Structure(latt, ['Fe', 'Fe'], [(0, 0, 0), (0.5, 0.5, 0.5)])\n",
    "print(Fe)\n",
    "print(Fe.volume)\n",
    "print(Fe.density)"
   ]
  },
  {
   "cell_type": "markdown",
   "metadata": {},
   "source": [
    "### iii. Al. Face centered cubic with volume of 65.89 cubic Angstrom"
   ]
  },
  {
   "cell_type": "code",
   "execution_count": 5,
   "metadata": {
    "collapsed": false
   },
   "outputs": [
    {
     "name": "stdout",
     "output_type": "stream",
     "text": [
      "Full Formula (Al4)\n",
      "Reduced Formula: Al\n",
      "abc   :   4.038994   4.038994   4.038994\n",
      "angles:  90.000000  90.000000  90.000000\n",
      "Sites (4)\n",
      "  #  SP      a    b    c\n",
      "---  ----  ---  ---  ---\n",
      "  0  Al    0    0    0\n",
      "  1  Al    0.5  0.5  0\n",
      "  2  Al    0.5  0    0.5\n",
      "  3  Al    0    0.5  0.5\n",
      "65.89\n",
      "2.71992097159 g\n"
     ]
    }
   ],
   "source": [
    "a = 65.89**(1.0/3.0) # lattice parameter, a\n",
    "latt = Lattice([[a, 0, 0], [0, a, 0], [0, 0, a]])\n",
    "Al = Structure(latt, ['Al', 'Al', 'Al', 'Al'], [(0.0,0.0,0.0), (0.5,0.5,0.0),\n",
    "                                                (0.5,0.0,0.5), (0.0,0.5,0.5)])\n",
    "print(Al)\n",
    "print(Al.volume)\n",
    "print(Al.density)"
   ]
  },
  {
   "cell_type": "markdown",
   "metadata": {},
   "source": [
    "### iv. NaCl. Rock salt structure. Use the Lattice.cubic staticmethod and a lattice parameter of 5.6402 Angstrom"
   ]
  },
  {
   "cell_type": "code",
   "execution_count": 6,
   "metadata": {
    "collapsed": false
   },
   "outputs": [
    {
     "name": "stdout",
     "output_type": "stream",
     "text": [
      "Full Formula (Na4 Cl4)\n",
      "Reduced Formula: NaCl\n",
      "abc   :   5.640200   5.640200   5.640200\n",
      "angles:  90.000000  90.000000  90.000000\n",
      "Sites (8)\n",
      "  #  SP      a    b    c\n",
      "---  ----  ---  ---  ---\n",
      "  0  Na    0    0    0\n",
      "  1  Na    0.5  0.5  0\n",
      "  2  Na    0.5  0    0.5\n",
      "  3  Na    0    0.5  0.5\n",
      "  4  Cl    0.5  0    0\n",
      "  5  Cl    0    0.5  0\n",
      "  6  Cl    0    0    0.5\n",
      "  7  Cl    0.5  0.5  0.5\n",
      "179.425230437\n",
      "2.16349729096 g\n"
     ]
    }
   ],
   "source": [
    "a = 5.6402 # lattice parameter, a\n",
    "latt = Lattice.cubic(a)\n",
    "NaCl = Structure(latt, ['Na', 'Na', 'Na', 'Na', 'Cl', 'Cl', 'Cl', 'Cl'], \n",
    "                 [(0.0,0.0,0.0), (0.5,0.5,0.0), (0.5,0.0,0.5), (0.0,0.5,0.5),\n",
    "                  (0.5,0.0,0.0), (0.0,0.5,0.0), (0.0,0.0,0.5), (0.5,0.5,0.5)])\n",
    "print(NaCl)\n",
    "print(NaCl.volume)\n",
    "print(NaCl.density)\n",
    "NaCl.to(filename='POSCAR')"
   ]
  },
  {
   "cell_type": "markdown",
   "metadata": {},
   "source": [
    "### v. Ti. Hexagonal. For this, you can use the hexagonal staticmethod. Try to look up the correct lattice parameter by browsing the Materials Project. It's highly suggested to plot this and convince yourself that the answer is correct. For best results, turn on space filling and increase the boundary to see the close packed structure.\n",
    "\n",
    "An interesting note here: first principles calculations find the most stable Ti phase to be omega-Ti, when we usually find beta-Ti (bcc) in nature. The reason for this is that bcc is dynamically stabilized (with temperature). See [Kadkhodaei, Hong, and van de Walle. Phys. Rev. B 95 (2017) 064101](https://doi.org/10.1103/PhysRevB.95.064101).\n",
    "\n",
    "Any answer for this question is really fine, but the idea was to use the hexagonal constructor and the true hcp structure is mp-46 (the omega phase is mp-72)"
   ]
  },
  {
   "cell_type": "code",
   "execution_count": 7,
   "metadata": {
    "collapsed": false
   },
   "outputs": [
    {
     "name": "stdout",
     "output_type": "stream",
     "text": [
      "Full Formula (Ti2)\n",
      "Reduced Formula: Ti\n",
      "abc   :   2.939000   2.939000   4.641000\n",
      "angles:  90.000000  90.000000 120.000000\n",
      "Sites (2)\n",
      "  #  SP          a        b    c\n",
      "---  ----  -------  -------  ---\n",
      "  0  Ti    0        0.33333  0\n",
      "  1  Ti    0.33333  0        0.5\n",
      "34.7169346758\n",
      "4.57903458183 g\n"
     ]
    }
   ],
   "source": [
    "# found lattice parameters for P6_3/mmc at https://materialsproject.org/materials/mp-46/\n",
    "# this i\n",
    "a = 2.939\n",
    "c = 4.641\n",
    "latt = Lattice.hexagonal(a, c)\n",
    "Ti = Structure(latt, ['Ti', 'Ti'], \n",
    "                 [(0.0,0.33333,0.0), (0.33333,0.0, 0.5)])\n",
    "print(Ti)\n",
    "print(Ti.volume)\n",
    "print(Ti.density)\n",
    "Ti.to(filename='POSCAR')"
   ]
  },
  {
   "cell_type": "markdown",
   "metadata": {},
   "source": [
    "HCP Ti\n",
    "![hcp Ti](ti-hcp.png \"hcp Ti\")\n",
    "\n",
    "HCP Ti with space filling\n",
    "![hcp Ti space filling](ti-hcp-space-filling.png \"hcp Ti space filling\")"
   ]
  },
  {
   "cell_type": "markdown",
   "metadata": {},
   "source": [
    "## 4. Now that you have some appreciation for the tedious creation of structures from lattices, even for pure elements, you might imaging that 'there must be a better way'. You may have noticed on the Materials Project that there are many different spacegroups. Spacegroups define different symmetry elements in infinite 2D or 3D lattices and are useful for both understanding and predicting properties and useful in a practical sense. Make the following structures from spacegroups (note, if not given, you're intended to look them up)"
   ]
  },
  {
   "cell_type": "markdown",
   "metadata": {},
   "source": [
    "### i. NaCl has the spacegroupm F-m3-m, where an Na can be found at (0,0,0) and Cl at (0.5,0.5,0.5). Make a Structure object directly from the spacegroup and atom positions (don't make a Lattice). Look up the API to do this in the pymatgen documentation. Take note that You only have to enter one of each element, unlike in the problem above. Explain why this is.\n",
    "\n",
    "Note that the `Structure.from_spacegroup` classmethod can take either the symbol or the number. I've used both here. For NaCl, you should get exactly the same result as above (unless you use a different lattice or site coordinates)"
   ]
  },
  {
   "cell_type": "code",
   "execution_count": 8,
   "metadata": {
    "collapsed": false
   },
   "outputs": [
    {
     "name": "stdout",
     "output_type": "stream",
     "text": [
      "Full Formula (Na4 Cl4)\n",
      "Reduced Formula: NaCl\n",
      "abc   :   5.640200   5.640200   5.640200\n",
      "angles:  90.000000  90.000000  90.000000\n",
      "Sites (8)\n",
      "  #  SP      a    b    c\n",
      "---  ----  ---  ---  ---\n",
      "  0  Na    0    0    0\n",
      "  1  Na    0    0.5  0.5\n",
      "  2  Na    0.5  0    0.5\n",
      "  3  Na    0.5  0.5  0\n",
      "  4  Cl    0.5  0.5  0.5\n",
      "  5  Cl    0.5  0    0\n",
      "  6  Cl    0    0.5  0\n",
      "  7  Cl    0    0    0.5\n",
      "179.425230437\n",
      "2.16349729096 g\n"
     ]
    }
   ],
   "source": [
    "a = 5.6402 # lattice parameter, a\n",
    "latt = Lattice.cubic(a)\n",
    "NaCl_spg = Structure.from_spacegroup('Fm-3m', latt, ['Na', 'Cl'], [(0,0,0), (0.5,0.5,0.5)])\n",
    "print(NaCl_spg)\n",
    "print(NaCl_spg.volume)\n",
    "print(NaCl_spg.density)"
   ]
  },
  {
   "cell_type": "markdown",
   "metadata": {},
   "source": [
    "### ii. Pick a relatively complex (3 or more component) metal or oxide structure from the Materials Project and create it from the spacegroup. Optionally, visualize it in VESTA to verify that you constructed it correctly.\n",
    "\n",
    "For this I chose forsterite. After applying symmetry operations, there are 28 atoms in the cell but we only needed to enter 6 positions. Symmetry is great.\n"
   ]
  },
  {
   "cell_type": "code",
   "execution_count": 9,
   "metadata": {
    "collapsed": false
   },
   "outputs": [
    {
     "name": "stdout",
     "output_type": "stream",
     "text": [
      "Full Formula (Mg8 Si4 O16)\n",
      "Reduced Formula: Mg2SiO4\n",
      "abc   :   4.803000   6.048000  10.323000\n",
      "angles:  90.000000  90.000000  90.000000\n",
      "Sites (28)\n",
      "  #  SP           a         b         c\n",
      "---  ----  --------  --------  --------\n",
      "  0  Mg    0         0         0\n",
      "  1  Mg    0.5       0         0.5\n",
      "  2  Mg    0.5       0.5       0.5\n",
      "  3  Mg    0         0.5       0\n",
      "  4  Mg    0.222736  0.75      0.491625\n",
      "  5  Mg    0.277264  0.25      0.991625\n",
      "  6  Mg    0.722736  0.75      0.008375\n",
      "  7  Mg    0.777264  0.25      0.508375\n",
      "  8  Si    0.093638  0.25      0.425974\n",
      "  9  Si    0.406362  0.75      0.925974\n",
      " 10  Si    0.593638  0.25      0.074026\n",
      " 11  Si    0.906362  0.75      0.574026\n",
      " 12  O     0.162835  0.033014  0.276946\n",
      " 13  O     0.337165  0.966986  0.776946\n",
      " 14  O     0.662835  0.466986  0.223054\n",
      " 15  O     0.837165  0.533014  0.723054\n",
      " 16  O     0.837165  0.966986  0.723054\n",
      " 17  O     0.662835  0.033014  0.223054\n",
      " 18  O     0.337165  0.533014  0.776946\n",
      " 19  O     0.162835  0.466986  0.276946\n",
      " 20  O     0.053218  0.75      0.722149\n",
      " 21  O     0.446782  0.25      0.222149\n",
      " 22  O     0.553218  0.75      0.777851\n",
      " 23  O     0.946782  0.25      0.277851\n",
      " 24  O     0.091677  0.25      0.765961\n",
      " 25  O     0.408323  0.75      0.265961\n",
      " 26  O     0.591677  0.25      0.734039\n",
      " 27  O     0.908323  0.75      0.234039\n",
      "299.868119712\n",
      "3.1163884368 g\n"
     ]
    }
   ],
   "source": [
    "a, b, c = 4.803, 6.048, 10.323 # lattice parameter, a\n",
    "latt = Lattice.orthorhombic(a, b, c)\n",
    "forsterite = Structure.from_spacegroup(62, latt, ['Mg', 'Mg', 'Si', 'O', 'O', 'O'],\n",
    "                                       [(0, 0, 0), \n",
    "                                        (0.222736, 0.750000, 0.491625),\n",
    "                                        (0.093638, 0.250000, 0.425974),\n",
    "                                        (0.162835, 0.033014, 0.276946),\n",
    "                                        (0.053218, 0.750000, 0.722149),\n",
    "                                        (0.091677, 0.250000, 0.765961),])\n",
    "print(forsterite)\n",
    "print(forsterite.volume)\n",
    "print(forsterite.density)\n",
    "forsterite.to(filename='POSCAR')"
   ]
  },
  {
   "cell_type": "markdown",
   "metadata": {},
   "source": [
    "# 5. We've now streamlined Structure generation, but we can do better still. Using the Materials Project API, we can directly access the structures that we want and modify them from there. Read through the couple examples at the pymatgen REST API and find the actual API documentation and skim it. Then do the following using MPRester:\n",
    "\n"
   ]
  },
  {
   "cell_type": "markdown",
   "metadata": {},
   "source": [
    "### i. Get the Structure object for mp-134. Print it and compare it to the structure for the same material you made before. What is different? Why?\n",
    "\n",
    "Keep in mind that we are using `with MPRester() as mpr` syntax. This is called a *context manager*.\n",
    "\n",
    "This Al only has one site and the lattice is different, but the density is the same. The lattice vectors are printed below. You can see in the structure result that the angles are different and the lattice parameters are smaller as well. Tiling this structure in space gives the same structure as an fcc cell that is defined by 4 atoms."
   ]
  },
  {
   "cell_type": "code",
   "execution_count": 10,
   "metadata": {
    "collapsed": false
   },
   "outputs": [
    {
     "name": "stdout",
     "output_type": "stream",
     "text": [
      "Full Formula (Al1)\n",
      "Reduced Formula: Al\n",
      "abc   :   2.855955   2.855955   2.855955\n",
      "angles:  60.000000  60.000000  60.000000\n",
      "Sites (1)\n",
      "  #  SP      a    b    c    coordination_no  forces\n",
      "---  ----  ---  ---  ---  -----------------  ---------------\n",
      "  0  Al      0    0    0                 12  [0.0, 0.0, 0.0]\n",
      "()\n",
      "[[ 2.47332919  0.          1.42797728]\n",
      " [ 0.82444306  2.33187713  1.42797728]\n",
      " [ 0.          0.          2.85595455]]\n",
      "16.4717172192\n",
      "2.72005022964 g\n"
     ]
    }
   ],
   "source": [
    "from pymatgen import MPRester\n",
    "with MPRester() as mpr:\n",
    "    Al_api = mpr.get_structure_by_material_id('mp-134')\n",
    "print(Al_api)    \n",
    "print()\n",
    "print(Al_api.lattice.matrix)\n",
    "print(Al_api.volume)\n",
    "print(Al_api.density)"
   ]
  },
  {
   "cell_type": "markdown",
   "metadata": {},
   "source": [
    "### ii. Get the energy of `mp-134`. \n",
    "\n",
    "Hint: since we specified the mp-id, we should use `get_entry_by_material_id`. If you wanted to use the formula, you could have used `get_entry` or `get_data`, but you would have had to find the right form of Al."
   ]
  },
  {
   "cell_type": "code",
   "execution_count": 11,
   "metadata": {
    "collapsed": false
   },
   "outputs": [
    {
     "name": "stdout",
     "output_type": "stream",
     "text": [
      "-3.74799675\n",
      "-3.74799675\n"
     ]
    }
   ],
   "source": [
    "with MPRester() as mpr:\n",
    "    result = mpr.get_entry_by_material_id('mp-134', property_data=['energy_per_atom'])\n",
    "print(result.energy)\n",
    "print(result.energy_per_atom)\n",
    "# since we just saw that the structure only had one atom, this makes sense.\n"
   ]
  },
  {
   "cell_type": "markdown",
   "metadata": {},
   "source": [
    "### iii. Get all of the energies for C (carbon) structures as a dictionary\n",
    "\n",
    "Here we actually do want to get the data for all structures for a formula, so we'll use ``get_data``."
   ]
  },
  {
   "cell_type": "code",
   "execution_count": 12,
   "metadata": {
    "collapsed": false
   },
   "outputs": [
    {
     "name": "stdout",
     "output_type": "stream",
     "text": [
      "[{u'energy': -18.23028394, u'material_id': u'mp-632329'}, {u'energy': -1043.58337059, u'material_id': u'mp-568028'}, {u'energy': -35.15284593, u'material_id': u'mp-1008374'}, {u'energy': -147.6075773, u'material_id': u'mp-568286'}, {u'energy': -72.64132214, u'material_id': u'mp-611426'}, {u'energy': -1242.76340292, u'material_id': u'mp-683919'}, {u'energy': -18.44360798, u'material_id': u'mp-937760'}, {u'energy': -6.46863693, u'material_id': u'mp-998866'}, {u'energy': -126.71494757, u'material_id': u'mp-569567'}, {u'energy': -530.2028216, u'material_id': u'mp-667273'}, {u'energy': -67.70347574, u'material_id': u'mp-570002'}, {u'energy': -18.44484253, u'material_id': u'mp-990448'}, {u'energy': -66.25122238, u'material_id': u'mp-579909'}, {u'energy': -36.88755236, u'material_id': u'mp-997182'}, {u'energy': -73.75439079, u'material_id': u'mp-568806'}, {u'energy': -31.70437838, u'material_id': u'mp-1018088'}, {u'energy': -18.17968607, u'material_id': u'mp-66'}, {u'energy': -110.66278207, u'material_id': u'mp-606949'}, {u'energy': -529.10330531, u'material_id': u'mp-680372'}, {u'energy': -145.35855192, u'material_id': u'mp-616440'}, {u'energy': -69.75276583, u'material_id': u'mp-568410'}, {u'energy': -18.44212036, u'material_id': u'mp-169'}, {u'energy': -63.76361783, u'material_id': u'mp-624889'}, {u'energy': -90.80287787, u'material_id': u'mp-569517'}, {u'energy': -36.89110618, u'material_id': u'mp-48'}, {u'energy': -109.00136766, u'material_id': u'mp-611448'}, {u'energy': -73.5733819, u'material_id': u'mp-569416'}, {u'energy': -36.88258572, u'material_id': u'mp-990424'}, {u'energy': -35.57474133, u'material_id': u'mp-1008395'}, {u'energy': -67.14506955, u'material_id': u'mp-24'}, {u'energy': -529.91904387, u'material_id': u'mp-630227'}, {u'energy': -36.25997986, u'material_id': u'mp-47'}, {u'energy': -36.78213314, u'material_id': u'mp-569304'}]\n"
     ]
    }
   ],
   "source": [
    "with MPRester() as mpr:\n",
    "    result = mpr.get_data('C', prop='energy')\n",
    "print(result)"
   ]
  },
  {
   "cell_type": "markdown",
   "metadata": {},
   "source": [
    "### iv. Write a function that takes that dictionary and makes a list of energies (in any order)"
   ]
  },
  {
   "cell_type": "code",
   "execution_count": 13,
   "metadata": {
    "collapsed": false
   },
   "outputs": [
    {
     "name": "stdout",
     "output_type": "stream",
     "text": [
      "[-18.23028394, -1043.58337059, -35.15284593, -147.6075773, -72.64132214, -1242.76340292, -18.44360798, -6.46863693, -126.71494757, -530.2028216, -67.70347574, -18.44484253, -66.25122238, -36.88755236, -73.75439079, -31.70437838, -18.17968607, -110.66278207, -529.10330531, -145.35855192, -69.75276583, -18.44212036, -63.76361783, -90.80287787, -36.89110618, -109.00136766, -73.5733819, -36.88258572, -35.57474133, -67.14506955, -529.91904387, -36.25997986, -36.78213314]\n"
     ]
    }
   ],
   "source": [
    "def mp_dict_to_energies(d):\n",
    "    \"\"\"Return list of energies from a list of dictionaries `{'material_id':mp-id, 'energy': energy}`\n",
    "    \n",
    "    Parameters\n",
    "    ----------\n",
    "    d (list): List of dictionaries of the form `{'material_id':mp-id, 'energy': energy}`\n",
    "    \n",
    "    Returns\n",
    "    -------\n",
    "    list:\n",
    "        List of energies from the input dictionary\n",
    "    \"\"\"\n",
    "    energies = []\n",
    "    for entry in d: # items() in Python 3, iteritems() in Python 2\n",
    "        energies.append(entry['energy'])\n",
    "    return energies\n",
    "print(mp_dict_to_energies(result))"
   ]
  },
  {
   "cell_type": "markdown",
   "metadata": {},
   "source": [
    "### v. Do the same as above, except use a list comprehension instead of a function\n",
    "\n"
   ]
  },
  {
   "cell_type": "code",
   "execution_count": 14,
   "metadata": {
    "collapsed": false
   },
   "outputs": [
    {
     "name": "stdout",
     "output_type": "stream",
     "text": [
      "[-18.23028394, -1043.58337059, -35.15284593, -147.6075773, -72.64132214, -1242.76340292, -18.44360798, -6.46863693, -126.71494757, -530.2028216, -67.70347574, -18.44484253, -66.25122238, -36.88755236, -73.75439079, -31.70437838, -18.17968607, -110.66278207, -529.10330531, -145.35855192, -69.75276583, -18.44212036, -63.76361783, -90.80287787, -36.89110618, -109.00136766, -73.5733819, -36.88258572, -35.57474133, -67.14506955, -529.91904387, -36.25997986, -36.78213314]\n"
     ]
    }
   ],
   "source": [
    "energies = [entry['energy'] for entry in result]\n",
    "print(energies)"
   ]
  },
  {
   "cell_type": "markdown",
   "metadata": {},
   "source": [
    "### vi. What are the drawbacks of storing the energies in this way? Are there drawbacks for storing the data as two lists of ids and energies?\n"
   ]
  },
  {
   "cell_type": "markdown",
   "metadata": {},
   "source": [
    "Variable answers. The idea was to think about differences between dicts and lists. \n",
    "\n",
    "* A dictionary is unordered (though they are now ordered by default in Python 3.6 and later). \n",
    "* Dictionaries excel when you need to drill down and look at all of the data for one structure. \n",
    "* When you want to compare a certain property for all structures, you more or less have to convert to a list first. \n",
    "* A database addresses both of these problems because you can query for specific entries or for a specific key/value for many entries. "
   ]
  },
  {
   "cell_type": "markdown",
   "metadata": {},
   "source": [
    "## 6. Finally, we will practice using some of the methods of Structure objects to transform them. You are expected to read the documentation to see what these do. If the documentation is unclear, try clicking the [Source] button on the right to see the actual Python code. Print the result of each transformation to prove to yourself that you did it correctly. Note that some transformations modify the Structure object and have no return value while others the return the new object, leaving the original unchanged. You should keep track of this and make sure to update the same structure the whole way through, applying all of the transformations to the same structure.\n",
    "\n"
   ]
  },
  {
   "cell_type": "markdown",
   "metadata": {},
   "source": [
    "### i. Create a Structure of strontium ferrite, mp-510624. What is the chemical formula? What is the volume of the structure? The density?"
   ]
  },
  {
   "cell_type": "code",
   "execution_count": 15,
   "metadata": {
    "collapsed": false
   },
   "outputs": [
    {
     "name": "stdout",
     "output_type": "stream",
     "text": [
      "Full Formula (Sr1 Fe1 O3)\n",
      "Reduced Formula: SrFeO3\n",
      "abc   :   3.911815   3.911815   3.911815\n",
      "angles:  90.000000  90.000000  90.000000\n",
      "Sites (5)\n",
      "  #  SP           a         b         c    coordination_no  forces\n",
      "---  ----  --------  --------  --------  -----------------  ---------------\n",
      "  0  O     0.499999  0         0                         6  [0.0, 0.0, 0.0]\n",
      "  1  O     0         0.499999  0                         6  [0.0, 0.0, 0.0]\n",
      "  2  O     0         0         0.499999                  6  [0.0, 0.0, 0.0]\n",
      "  3  Fe    0         0         0                         6  [0.0, 0.0, 0.0]\n",
      "  4  Sr    0.499999  0.499999  0.499999                 12  [0.0, 0.0, 0.0]\n",
      "Sr1 Fe1 O3\n",
      "59.8597602378\n",
      "5.31128285614 g\n"
     ]
    }
   ],
   "source": [
    "with MPRester() as mpr:\n",
    "    struct = mpr.get_structure_by_material_id('mp-510624')\n",
    "print(struct)\n",
    "print(struct.formula)\n",
    "print(struct.volume)\n",
    "print(struct.density)"
   ]
  },
  {
   "cell_type": "markdown",
   "metadata": {},
   "source": [
    "### ii. Look at the band structure and band gap for that structure on the Materials Project website. Is this a metal, semiconductor or an insulator?\n"
   ]
  },
  {
   "cell_type": "markdown",
   "metadata": {},
   "source": [
    "There is a gap in the bandstructure at about 5 eV above the Fermi energy. The gap is 0.332 eV. That means SrFeO3 is predicted to be a semiconductor"
   ]
  },
  {
   "cell_type": "markdown",
   "metadata": {},
   "source": [
    "### iii. Scale the volume to 56.965 cubic Angstrom\n"
   ]
  },
  {
   "cell_type": "code",
   "execution_count": 16,
   "metadata": {
    "collapsed": false
   },
   "outputs": [
    {
     "name": "stdout",
     "output_type": "stream",
     "text": [
      "56.965\n"
     ]
    }
   ],
   "source": [
    "struct.scale_lattice(56.965)\n",
    "print(struct.volume)"
   ]
  },
  {
   "cell_type": "markdown",
   "metadata": {},
   "source": [
    "### iv. Replace all of the Fe species with Co in one step"
   ]
  },
  {
   "cell_type": "code",
   "execution_count": 17,
   "metadata": {
    "collapsed": false
   },
   "outputs": [
    {
     "name": "stdout",
     "output_type": "stream",
     "text": [
      "Full Formula (Sr1 Co1 O3)\n",
      "Reduced Formula: SrCoO3\n",
      "abc   :   3.847713   3.847713   3.847713\n",
      "angles:  90.000000  90.000000  90.000000\n",
      "Sites (5)\n",
      "  #  SP           a         b         c    coordination_no  forces\n",
      "---  ----  --------  --------  --------  -----------------  ---------------\n",
      "  0  O     0.499999  0         0                         6  [0.0, 0.0, 0.0]\n",
      "  1  O     0         0.499999  0                         6  [0.0, 0.0, 0.0]\n",
      "  2  O     0         0         0.499999                  6  [0.0, 0.0, 0.0]\n",
      "  3  Co    0         0         0                         6  [0.0, 0.0, 0.0]\n",
      "  4  Sr    0.499999  0.499999  0.499999                 12  [0.0, 0.0, 0.0]\n"
     ]
    }
   ],
   "source": [
    "struct.replace_species({'Fe':'Co'})\n",
    "print(struct)"
   ]
  },
  {
   "cell_type": "markdown",
   "metadata": {},
   "source": [
    "### v. Make a 2x2x2 supercell"
   ]
  },
  {
   "cell_type": "code",
   "execution_count": 18,
   "metadata": {
    "collapsed": false
   },
   "outputs": [
    {
     "name": "stdout",
     "output_type": "stream",
     "text": [
      "Full Formula (Sr8 Co8 O24)\n",
      "Reduced Formula: SrCoO3\n",
      "abc   :   7.695427   7.695427   7.695427\n",
      "angles:  90.000000  90.000000  90.000000\n",
      "Sites (40)\n",
      "  #  SP           a         b         c    coordination_no  forces\n",
      "---  ----  --------  --------  --------  -----------------  ---------------\n",
      "  0  O     0.25      0         0                         6  [0.0, 0.0, 0.0]\n",
      "  1  O     0.25      0         0.5                       6  [0.0, 0.0, 0.0]\n",
      "  2  O     0.25      0.5       0                         6  [0.0, 0.0, 0.0]\n",
      "  3  O     0.25      0.5       0.5                       6  [0.0, 0.0, 0.0]\n",
      "  4  O     0.749999  0         0                         6  [0.0, 0.0, 0.0]\n",
      "  5  O     0.749999  0         0.5                       6  [0.0, 0.0, 0.0]\n",
      "  6  O     0.749999  0.5       0                         6  [0.0, 0.0, 0.0]\n",
      "  7  O     0.749999  0.5       0.5                       6  [0.0, 0.0, 0.0]\n",
      "  8  O     0         0.25      0                         6  [0.0, 0.0, 0.0]\n",
      "  9  O     0         0.25      0.5                       6  [0.0, 0.0, 0.0]\n",
      " 10  O     0         0.749999  0                         6  [0.0, 0.0, 0.0]\n",
      " 11  O     0         0.749999  0.5                       6  [0.0, 0.0, 0.0]\n",
      " 12  O     0.5       0.25      0                         6  [0.0, 0.0, 0.0]\n",
      " 13  O     0.5       0.25      0.5                       6  [0.0, 0.0, 0.0]\n",
      " 14  O     0.5       0.749999  0                         6  [0.0, 0.0, 0.0]\n",
      " 15  O     0.5       0.749999  0.5                       6  [0.0, 0.0, 0.0]\n",
      " 16  O     0         0         0.25                      6  [0.0, 0.0, 0.0]\n",
      " 17  O     0         0         0.749999                  6  [0.0, 0.0, 0.0]\n",
      " 18  O     0         0.5       0.25                      6  [0.0, 0.0, 0.0]\n",
      " 19  O     0         0.5       0.749999                  6  [0.0, 0.0, 0.0]\n",
      " 20  O     0.5       0         0.25                      6  [0.0, 0.0, 0.0]\n",
      " 21  O     0.5       0         0.749999                  6  [0.0, 0.0, 0.0]\n",
      " 22  O     0.5       0.5       0.25                      6  [0.0, 0.0, 0.0]\n",
      " 23  O     0.5       0.5       0.749999                  6  [0.0, 0.0, 0.0]\n",
      " 24  Co    0         0         0                         6  [0.0, 0.0, 0.0]\n",
      " 25  Co    0         0         0.5                       6  [0.0, 0.0, 0.0]\n",
      " 26  Co    0         0.5       0                         6  [0.0, 0.0, 0.0]\n",
      " 27  Co    0         0.5       0.5                       6  [0.0, 0.0, 0.0]\n",
      " 28  Co    0.5       0         0                         6  [0.0, 0.0, 0.0]\n",
      " 29  Co    0.5       0         0.5                       6  [0.0, 0.0, 0.0]\n",
      " 30  Co    0.5       0.5       0                         6  [0.0, 0.0, 0.0]\n",
      " 31  Co    0.5       0.5       0.5                       6  [0.0, 0.0, 0.0]\n",
      " 32  Sr    0.25      0.25      0.25                     12  [0.0, 0.0, 0.0]\n",
      " 33  Sr    0.25      0.25      0.749999                 12  [0.0, 0.0, 0.0]\n",
      " 34  Sr    0.25      0.749999  0.25                     12  [0.0, 0.0, 0.0]\n",
      " 35  Sr    0.25      0.749999  0.749999                 12  [0.0, 0.0, 0.0]\n",
      " 36  Sr    0.749999  0.25      0.25                     12  [0.0, 0.0, 0.0]\n",
      " 37  Sr    0.749999  0.25      0.749999                 12  [0.0, 0.0, 0.0]\n",
      " 38  Sr    0.749999  0.749999  0.25                     12  [0.0, 0.0, 0.0]\n",
      " 39  Sr    0.749999  0.749999  0.749999                 12  [0.0, 0.0, 0.0]\n"
     ]
    }
   ],
   "source": [
    "struct.make_supercell([2,2,2]) # or just struct.make_supercell(2) works for this\n",
    "print(struct)"
   ]
  },
  {
   "cell_type": "markdown",
   "metadata": {},
   "source": [
    "### vi. Scale the volume up by 10%"
   ]
  },
  {
   "cell_type": "code",
   "execution_count": 19,
   "metadata": {
    "collapsed": false
   },
   "outputs": [
    {
     "name": "stdout",
     "output_type": "stream",
     "text": [
      "455.72\n",
      "501.292\n"
     ]
    }
   ],
   "source": [
    "print(struct.volume)\n",
    "struct.scale_lattice(struct.volume*1.1)\n",
    "print(struct.volume)"
   ]
  },
  {
   "cell_type": "markdown",
   "metadata": {},
   "source": [
    "### vii. Import and create a `SpacegroupAnalyzer` from `pymatgen.symmetry.analyzer` with your structure. Print the spacegroup symbol"
   ]
  },
  {
   "cell_type": "code",
   "execution_count": 20,
   "metadata": {
    "collapsed": false
   },
   "outputs": [
    {
     "name": "stdout",
     "output_type": "stream",
     "text": [
      "Pm-3m\n"
     ]
    }
   ],
   "source": [
    "from pymatgen.symmetry.analyzer import SpacegroupAnalyzer\n",
    "sga = SpacegroupAnalyzer(struct)\n",
    "print(sga.get_space_group_symbol())"
   ]
  },
  {
   "cell_type": "markdown",
   "metadata": {},
   "source": [
    "### viii. Replace one of Co with an Fe. What is the chemical formula? What is the spacegroup symbol of this structure?\n",
    "\n",
    "I chose the site manually from the site number printed above in the supercell."
   ]
  },
  {
   "cell_type": "code",
   "execution_count": 21,
   "metadata": {
    "collapsed": false
   },
   "outputs": [
    {
     "name": "stdout",
     "output_type": "stream",
     "text": [
      "Full Formula (Sr8 Fe1 Co7 O24)\n",
      "Reduced Formula: Sr8FeCo7O24\n",
      "abc   :   7.943836   7.943836   7.943836\n",
      "angles:  90.000000  90.000000  90.000000\n",
      "Sites (40)\n",
      "  #  SP           a         b         c    coordination_no  forces\n",
      "---  ----  --------  --------  --------  -----------------  ---------------\n",
      "  0  O     0.25      0         0                         6  [0.0, 0.0, 0.0]\n",
      "  1  O     0.25      0         0.5                       6  [0.0, 0.0, 0.0]\n",
      "  2  O     0.25      0.5       0                         6  [0.0, 0.0, 0.0]\n",
      "  3  O     0.25      0.5       0.5                       6  [0.0, 0.0, 0.0]\n",
      "  4  O     0.749999  0         0                         6  [0.0, 0.0, 0.0]\n",
      "  5  O     0.749999  0         0.5                       6  [0.0, 0.0, 0.0]\n",
      "  6  O     0.749999  0.5       0                         6  [0.0, 0.0, 0.0]\n",
      "  7  O     0.749999  0.5       0.5                       6  [0.0, 0.0, 0.0]\n",
      "  8  O     0         0.25      0                         6  [0.0, 0.0, 0.0]\n",
      "  9  O     0         0.25      0.5                       6  [0.0, 0.0, 0.0]\n",
      " 10  O     0         0.749999  0                         6  [0.0, 0.0, 0.0]\n",
      " 11  O     0         0.749999  0.5                       6  [0.0, 0.0, 0.0]\n",
      " 12  O     0.5       0.25      0                         6  [0.0, 0.0, 0.0]\n",
      " 13  O     0.5       0.25      0.5                       6  [0.0, 0.0, 0.0]\n",
      " 14  O     0.5       0.749999  0                         6  [0.0, 0.0, 0.0]\n",
      " 15  O     0.5       0.749999  0.5                       6  [0.0, 0.0, 0.0]\n",
      " 16  O     0         0         0.25                      6  [0.0, 0.0, 0.0]\n",
      " 17  O     0         0         0.749999                  6  [0.0, 0.0, 0.0]\n",
      " 18  O     0         0.5       0.25                      6  [0.0, 0.0, 0.0]\n",
      " 19  O     0         0.5       0.749999                  6  [0.0, 0.0, 0.0]\n",
      " 20  O     0.5       0         0.25                      6  [0.0, 0.0, 0.0]\n",
      " 21  O     0.5       0         0.749999                  6  [0.0, 0.0, 0.0]\n",
      " 22  O     0.5       0.5       0.25                      6  [0.0, 0.0, 0.0]\n",
      " 23  O     0.5       0.5       0.749999                  6  [0.0, 0.0, 0.0]\n",
      " 24  Fe    0         0         0\n",
      " 25  Co    0         0         0.5                       6  [0.0, 0.0, 0.0]\n",
      " 26  Co    0         0.5       0                         6  [0.0, 0.0, 0.0]\n",
      " 27  Co    0         0.5       0.5                       6  [0.0, 0.0, 0.0]\n",
      " 28  Co    0.5       0         0                         6  [0.0, 0.0, 0.0]\n",
      " 29  Co    0.5       0         0.5                       6  [0.0, 0.0, 0.0]\n",
      " 30  Co    0.5       0.5       0                         6  [0.0, 0.0, 0.0]\n",
      " 31  Co    0.5       0.5       0.5                       6  [0.0, 0.0, 0.0]\n",
      " 32  Sr    0.25      0.25      0.25                     12  [0.0, 0.0, 0.0]\n",
      " 33  Sr    0.25      0.25      0.749999                 12  [0.0, 0.0, 0.0]\n",
      " 34  Sr    0.25      0.749999  0.25                     12  [0.0, 0.0, 0.0]\n",
      " 35  Sr    0.25      0.749999  0.749999                 12  [0.0, 0.0, 0.0]\n",
      " 36  Sr    0.749999  0.25      0.25                     12  [0.0, 0.0, 0.0]\n",
      " 37  Sr    0.749999  0.25      0.749999                 12  [0.0, 0.0, 0.0]\n",
      " 38  Sr    0.749999  0.749999  0.25                     12  [0.0, 0.0, 0.0]\n",
      " 39  Sr    0.749999  0.749999  0.749999                 12  [0.0, 0.0, 0.0]\n",
      "Pm-3m\n"
     ]
    }
   ],
   "source": [
    "struct.replace(24, 'Fe')\n",
    "print(struct)\n",
    "sga = SpacegroupAnalyzer(struct)\n",
    "print(sga.get_space_group_symbol())"
   ]
  },
  {
   "cell_type": "markdown",
   "metadata": {},
   "source": [
    "### ix. Break the symmetry with a perturbation of 0.1 Angstrom. What is the spacegroup symbol of this structure?\n",
    "\n",
    "Since we broke the symmetry, we see that all symmetry goes away (unless you had a 'lucky' perturbation) leaving you with a primitive Bravais and no symmetry."
   ]
  },
  {
   "cell_type": "code",
   "execution_count": 22,
   "metadata": {
    "collapsed": false
   },
   "outputs": [
    {
     "name": "stdout",
     "output_type": "stream",
     "text": [
      "P1\n"
     ]
    }
   ],
   "source": [
    "struct.perturb(0.1)\n",
    "sga = SpacegroupAnalyzer(struct)\n",
    "print(sga.get_space_group_symbol())"
   ]
  },
  {
   "cell_type": "markdown",
   "metadata": {},
   "source": [
    "### x. Explain what the difference is between mutable and immutable objects. What was the implication for these problems?"
   ]
  },
  {
   "cell_type": "markdown",
   "metadata": {},
   "source": [
    "Mutable objects can be changed in place. They (usually) have a return value of `None`. In order for your structure to be updated, you run the method or function that updates the variable without you having to explictly set it again. The methods for the `Structure` class change the object's state so it is a mutable object. There is also an `IStructure` object, where `I` means immutable. You may have seen this in the documentation. `Structure` is a subclass of this object.\n",
    "\n",
    "More examples of mutable objects are lists and dictionaries. Lists have `append()` and  `insert()` methods that update the object for you. Dictionaries are similar with the `update()` method.\n",
    "\n",
    "Immutable objects cannot be changed and if you want the value of a variable with an immutable object to change, you must get a new object. Methods usually return  All of the methods for immutable objects return a new object. A main example is the string (str) object in Python. Strings cannot be changed so to update the variable, you have to set it again to the result of the method. An example of this is below, when we use the `replace()` method for a string, the return value is `None`.\n"
   ]
  },
  {
   "cell_type": "code",
   "execution_count": 23,
   "metadata": {
    "collapsed": false
   },
   "outputs": [
    {
     "name": "stdout",
     "output_type": "stream",
     "text": [
      "Original string:\n",
      "Python is a scientific programming language\n",
      "Try to mutate the string:\n",
      "Python is a scientific programming language\n",
      "It wasn't replaced!\n",
      "Python is a fun programming language\n",
      "Now it has been replaced.\n"
     ]
    }
   ],
   "source": [
    "my_string = 'Python is a scientific programming language'\n",
    "\n",
    "print('Original string:')\n",
    "print(my_string)\n",
    "print('Try to mutate the string:')\n",
    "my_string.replace('scientific', 'fun')\n",
    "print(my_string)\n",
    "print('It wasn\\'t replaced!')\n",
    "my_string = my_string.replace('scientific', 'fun')\n",
    "print(my_string)\n",
    "print('Now it has been replaced.')\n"
   ]
  }
 ],
 "metadata": {
  "kernelspec": {
   "display_name": "Python 2",
   "language": "python",
   "name": "python2"
  },
  "language_info": {
   "codemirror_mode": {
    "name": "ipython",
    "version": 2
   },
   "file_extension": ".py",
   "mimetype": "text/x-python",
   "name": "python",
   "nbconvert_exporter": "python",
   "pygments_lexer": "ipython2",
   "version": "2.7.11"
  }
 },
 "nbformat": 4,
 "nbformat_minor": 0
}
